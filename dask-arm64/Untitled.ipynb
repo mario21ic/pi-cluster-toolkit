{
 "cells": [
  {
   "cell_type": "code",
   "execution_count": null,
   "metadata": {},
   "outputs": [],
   "source": [
    "from distributed import Client\n",
    "from time import sleep\n",
    "import random\n",
    "\n",
    "import subprocess\n",
    "\n",
    "client = Client('192.168.1.200:30000')\n",
    "client"
   ]
  },
  {
   "cell_type": "code",
   "execution_count": null,
   "metadata": {},
   "outputs": [],
   "source": [
    "def inc(x):\n",
    "    sleep(random.random() / 10)\n",
    "    return x + 1\n",
    "\n",
    "def dec(x):\n",
    "    sleep(random.random() / 10)\n",
    "    return x - 1\n",
    "\n",
    "def add(x, y):\n",
    "    sleep(random.random() / 10)\n",
    "    return x + y\n",
    "\n",
    "\n",
    "incs = client.map(inc, range(10000))\n",
    "decs = client.map(dec, range(10000))\n",
    "adds = client.map(add, incs, decs)\n",
    "total = client.submit(sum, adds)\n",
    "\n",
    "del incs, decs, adds\n",
    "total.result()"
   ]
  },
  {
   "cell_type": "code",
   "execution_count": null,
   "metadata": {},
   "outputs": [],
   "source": [
    "# def nvidia_data(name):\n",
    "#     def dask_function(dask_worker):\n",
    "#         print(\"dask_function name:\", name)\n",
    "#         cmd = 'nvidia-smi --query-gpu={} --format=csv,noheader'.format(name)\n",
    "#         result = subprocess.check_output(cmd.split())\n",
    "#         return result.strip().decode()\n",
    "#     return dask_function\n",
    "\n",
    "# def register_metrics(dask_worker):\n",
    "#     for name in ['utilization.gpu', 'utilization.memory']:\n",
    "#         dask_worker.metrics[name] = nvidia_data(name)\n",
    "\n",
    "# client.run(register_metrics)"
   ]
  }
 ],
 "metadata": {
  "kernelspec": {
   "display_name": "Python 3",
   "language": "python",
   "name": "python3"
  },
  "language_info": {
   "codemirror_mode": {
    "name": "ipython",
    "version": 3
   },
   "file_extension": ".py",
   "mimetype": "text/x-python",
   "name": "python",
   "nbconvert_exporter": "python",
   "pygments_lexer": "ipython3",
   "version": "3.8.5"
  }
 },
 "nbformat": 4,
 "nbformat_minor": 4
}
